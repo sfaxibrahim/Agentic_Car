{
 "cells": [
  {
   "cell_type": "code",
   "execution_count": 19,
   "id": "a406ca83",
   "metadata": {},
   "outputs": [],
   "source": [
    "from langchain_community.document_loaders import PyPDFLoader\n",
    "from langchain_community.vectorstores import FAISS \n",
    "from langchain.retrievers import BM25Retriever, EnsembleRetriever\n",
    "from langchain_huggingface import HuggingFaceEmbeddings\n",
    "from langchain.text_splitter import RecursiveCharacterTextSplitter\n",
    "import os\n",
    "import glob"
   ]
  },
  {
   "cell_type": "code",
   "execution_count": 20,
   "id": "7a2b111d",
   "metadata": {},
   "outputs": [],
   "source": [
    "Base_dir = os.getcwd()\n",
    "DATA_DIR = os.path.join(Base_dir, '..', 'data', 'PDF')\n",
    "DATA_DIR = os.path.abspath(DATA_DIR)"
   ]
  },
  {
   "cell_type": "code",
   "execution_count": 21,
   "id": "b3670b8d",
   "metadata": {},
   "outputs": [],
   "source": [
    "\n",
    "# Global variables\n",
    "vector_store = None\n",
    "bm25_retriever = None\n",
    "pdf_texts = {}\n"
   ]
  },
  {
   "cell_type": "code",
   "execution_count": 22,
   "id": "456458a2",
   "metadata": {},
   "outputs": [],
   "source": [
    "\n",
    "def setup_fast_rag():\n",
    "    \"\"\"Ultra-fast RAG setup - loads once, stores in memory\"\"\"\n",
    "    global vector_store, bm25_retriever, pdf_texts\n",
    "    \n",
    "    if not os.path.exists(DATA_DIR):\n",
    "        print(f\"⚠️ PDF directory not found: {DATA_DIR}\")\n",
    "        print(\"Creating directory...\")\n",
    "        os.makedirs(DATA_DIR, exist_ok=True)\n",
    "        print(\"Please add PDF files to this directory and restart.\")\n",
    "        return False\n",
    "    \n",
    "    pdf_files = glob.glob(os.path.join(DATA_DIR, \"*.pdf\"))\n",
    "    if not pdf_files:\n",
    "        print(f\"⚠️ No PDF files found in {DATA_DIR}\")\n",
    "        print(\"Please add PDF files to this directory for knowledge base functionality.\")\n",
    "        return False\n",
    "    \n",
    "    print(f\"📚 Loading {len(pdf_files)} PDF files into memory...\")\n",
    "    all_docs = []\n",
    "    \n",
    "    for pdf_file in pdf_files:\n",
    "        try:\n",
    "            print(f\"  📄 Loading: {os.path.basename(pdf_file)}\")\n",
    "            loader = PyPDFLoader(pdf_file)\n",
    "            docs = loader.load()\n",
    "            \n",
    "            full_text = \" \".join([doc.page_content for doc in docs])\n",
    "            pdf_texts[pdf_file] = full_text\n",
    "            \n",
    "            all_docs.extend(docs)\n",
    "        except Exception as e:\n",
    "            print(f\"⚠️ Error loading {pdf_file}: {e}\")\n",
    "            continue\n",
    "    \n",
    "    if not all_docs:\n",
    "        print(\"⚠️ No documents could be loaded\")\n",
    "        return False\n",
    "    \n",
    "    try:\n",
    "        print(\"🔄 Processing documents...\")\n",
    "        text_splitter = RecursiveCharacterTextSplitter(chunk_size=1000, chunk_overlap=100)\n",
    "        chunks = text_splitter.split_documents(all_docs)\n",
    "        \n",
    "        print(\"🔄 Creating embeddings...\")\n",
    "        embeddings = HuggingFaceEmbeddings(model_name=\"sentence-transformers/all-MiniLM-L6-v2\")\n",
    "        vector_store = FAISS.from_documents(chunks, embeddings)\n",
    "        \n",
    "        print(\"🔄 Setting up BM25 retriever...\")\n",
    "        bm25_retriever = BM25Retriever.from_documents(chunks)\n",
    "        bm25_retriever.k = 15\n",
    "        \n",
    "        save_path = os.path.join(DATA_DIR, \"vector_store_faiss\")\n",
    "        vector_store.save_local(save_path)\n",
    "        print(f\"✅ FAISS index saved at {save_path}\")\n",
    "        return True\n",
    "        \n",
    "    except Exception as e:\n",
    "        print(f\"❌ Error setting up RAG system: {e}\")\n",
    "        return False\n"
   ]
  },
  {
   "cell_type": "code",
   "execution_count": 23,
   "id": "e3244fe2",
   "metadata": {},
   "outputs": [
    {
     "name": "stdout",
     "output_type": "stream",
     "text": [
      "📚 Loading 4 PDF files into memory...\n",
      "  📄 Loading: car_knwoledge.pdf\n",
      "  📄 Loading: Car_Maintencance_Guide.pdf\n",
      "  📄 Loading: Crawfords_Auto_Repair_Guide.pdf\n",
      "  📄 Loading: TheDriversGuidetoAutomotiveMaintenance.pdf\n",
      "🔄 Processing documents...\n",
      "🔄 Creating embeddings...\n"
     ]
    },
    {
     "name": "stderr",
     "output_type": "stream",
     "text": [
      "c:\\Users\\ibrah\\AppData\\Local\\Programs\\Python\\Python313\\Lib\\site-packages\\tqdm\\auto.py:21: TqdmWarning: IProgress not found. Please update jupyter and ipywidgets. See https://ipywidgets.readthedocs.io/en/stable/user_install.html\n",
      "  from .autonotebook import tqdm as notebook_tqdm\n",
      "c:\\Users\\ibrah\\AppData\\Local\\Programs\\Python\\Python313\\Lib\\site-packages\\torch\\nn\\modules\\module.py:1762: FutureWarning: `encoder_attention_mask` is deprecated and will be removed in version 4.55.0 for `BertSdpaSelfAttention.forward`.\n",
      "  return forward_call(*args, **kwargs)\n"
     ]
    },
    {
     "name": "stdout",
     "output_type": "stream",
     "text": [
      "🔄 Setting up BM25 retriever...\n",
      "✅ FAISS index saved at c:\\Users\\ibrah\\Desktop\\Agentic_Car\\data\\PDF\\vector_store_faiss\n"
     ]
    },
    {
     "data": {
      "text/plain": [
       "True"
      ]
     },
     "execution_count": 23,
     "metadata": {},
     "output_type": "execute_result"
    }
   ],
   "source": [
    "setup_fast_rag()"
   ]
  },
  {
   "cell_type": "code",
   "execution_count": 24,
   "id": "1ed46a7b",
   "metadata": {},
   "outputs": [],
   "source": [
    "def load_vector_store():\n",
    "    embeddings = HuggingFaceEmbeddings(model_name=\"sentence-transformers/all-MiniLM-L6-v2\")\n",
    "    save_path = os.path.join(DATA_DIR, \"vector_store_faiss\")\n",
    "    if os.path.exists(save_path):\n",
    "        print(f\"📂 Loading existing FAISS index from {save_path}\")\n",
    "        return FAISS.load_local(save_path, embeddings, allow_dangerous_deserialization=True)\n",
    "    else:\n",
    "        print(\"⚠️ No saved index found, please run setup_fast_rag() once to build it.\")\n",
    "        return None"
   ]
  },
  {
   "cell_type": "code",
   "execution_count": 25,
   "id": "7898c329",
   "metadata": {},
   "outputs": [
    {
     "name": "stdout",
     "output_type": "stream",
     "text": [
      "📂 Loading existing FAISS index from c:\\Users\\ibrah\\Desktop\\Agentic_Car\\data\\PDF\\vector_store_faiss\n"
     ]
    },
    {
     "data": {
      "text/plain": [
       "<langchain_community.vectorstores.faiss.FAISS at 0x211d253bc50>"
      ]
     },
     "execution_count": 25,
     "metadata": {},
     "output_type": "execute_result"
    }
   ],
   "source": [
    "load_vector_store()"
   ]
  },
  {
   "cell_type": "code",
   "execution_count": 26,
   "id": "b148dfbb",
   "metadata": {},
   "outputs": [],
   "source": [
    "def debug_retriever(query, top_k=5):\n",
    "    global vector_store\n",
    "    if not vector_store:\n",
    "        return \"❌ Vector store not loaded.\"\n",
    "\n",
    "    retriever = vector_store.as_retriever(search_kwargs={\"k\": top_k})\n",
    "    results = retriever.get_relevant_documents(query)\n",
    "\n",
    "    print(f\"🔍 Query: {query}\")\n",
    "    print(f\"✅ Retrieved {len(results)} chunks\")\n",
    "\n",
    "    for i, doc in enumerate(results, 1):\n",
    "        src = os.path.basename(doc.metadata.get(\"source\", \"unknown.pdf\"))\n",
    "        page = doc.metadata.get(\"page\", \"N/A\")\n",
    "        snippet = doc.page_content[:300].replace(\"\\n\", \" \") + \"...\"\n",
    "        print(f\"\\n[{i}] {src} (page {page})\")\n",
    "        print(f\"👉 {snippet}\")\n",
    "\n",
    "    return results\n"
   ]
  },
  {
   "cell_type": "code",
   "execution_count": 27,
   "id": "6efb5a69",
   "metadata": {},
   "outputs": [
    {
     "name": "stdout",
     "output_type": "stream",
     "text": [
      "🔍 Query: how to change a tire\n",
      "✅ Retrieved 5 chunks\n",
      "\n",
      "[1] Crawfords_Auto_Repair_Guide.pdf (page 44)\n",
      "👉 Every vehicle has instructions for using the jack and other tools as necessary to change  the tire. Some of the details can vary by make and model, such as the storage location  for the jack and spare tire. Consult the owner\u0001s manual of the vehicle. Also, there will  often be a sticker with instruct...\n",
      "\n",
      "[2] Car_Maintencance_Guide.pdf (page 1)\n",
      "👉 Step 1 Step 2 Step 3 Step 4 Locate the tire’s valve stem. Using a tire pressure gauge, hold the gauge down on the valve stem to get the  tire’s pressure reading. Perform this step for all of the tires on your vehicle. Compare the tire pressure to the information on the sticker located on the  driver...\n",
      "\n",
      "[3] Car_Maintencance_Guide.pdf (page 7)\n",
      "👉 Teen Driver Car Maintenance and Repair Guide Vehicle Maintenance and Repair Instructions 2. How to change a flat tire For help, view pictures of how to change a flat tire. A flat tire can occur anywhere and at anytime, so knowing how to change a flat tire is  essential part of your vehicle repair an...\n",
      "\n",
      "[4] Crawfords_Auto_Repair_Guide.pdf (page 45)\n",
      "👉 Crawford\u0001s Guide to Beginners Auto Maintenance & Repair  www.CrawfordsAutoService.com  41  Standard spare tire kit with spare tire, lug wrench, and tire jack. This particular kit does not include chocks  for the other tires. Notice how the spare tire is smaller than the regular tire. It is only mean...\n",
      "\n",
      "[5] Car_Maintencance_Guide.pdf (page 7)\n",
      "👉 lug nuts until the vehicle is raised. Using your car jack, lift the vehicle where the flat tire is located. Check your  vehicle owner’s manual for proper jacking locations. Remove the lug nuts. Remove the flat tire and set it aside. Install the spare tire on the wheel hub by aligning the lug nut hol...\n"
     ]
    },
    {
     "name": "stderr",
     "output_type": "stream",
     "text": [
      "C:\\Users\\ibrah\\AppData\\Local\\Temp\\ipykernel_21916\\326960292.py:7: LangChainDeprecationWarning: The method `BaseRetriever.get_relevant_documents` was deprecated in langchain-core 0.1.46 and will be removed in 1.0. Use :meth:`~invoke` instead.\n",
      "  results = retriever.get_relevant_documents(query)\n",
      "c:\\Users\\ibrah\\AppData\\Local\\Programs\\Python\\Python313\\Lib\\site-packages\\torch\\nn\\modules\\module.py:1762: FutureWarning: `encoder_attention_mask` is deprecated and will be removed in version 4.55.0 for `BertSdpaSelfAttention.forward`.\n",
      "  return forward_call(*args, **kwargs)\n"
     ]
    },
    {
     "data": {
      "text/plain": [
       "[Document(id='6954e1cc-aef0-46c1-9b3b-b182b5548628', metadata={'producer': 'RAD PDF 2.20.2.0 - http://www.radpdf.com', 'creator': 'RAD PDF', 'creationdate': '2014-02-19T13:47:01-07:00', 'moddate': '2014-03-05T16:45:35-08:00', 'source': 'c:\\\\Users\\\\ibrah\\\\Desktop\\\\Agentic_Car\\\\data\\\\PDF\\\\Crawfords_Auto_Repair_Guide.pdf', 'total_pages': 84, 'page': 44, 'page_label': '45'}, page_content='Every vehicle has instructions for using the jack and other tools as necessary to change \\nthe tire. Some of the details can vary by make and model, such as the storage location \\nfor the jack and spare tire. Consult the owner\\x01s manual of the vehicle. Also, there will \\noften be a sticker with instructions located with the jack and spare tire.'),\n",
       " Document(id='10d56e99-4422-4420-a6fe-e74d125be88e', metadata={'producer': 'Adobe PDF Library 9.9', 'creator': 'Adobe InDesign CS5 (7.0)', 'creationdate': '2011-09-13T12:26:50-07:00', 'moddate': '2011-09-13T12:27:13-07:00', 'trapped': '/False', 'source': 'c:\\\\Users\\\\ibrah\\\\Desktop\\\\Agentic_Car\\\\data\\\\PDF\\\\Car_Maintencance_Guide.pdf', 'total_pages': 18, 'page': 1, 'page_label': '2'}, page_content='Step 1\\nStep 2\\nStep 3\\nStep 4\\nLocate the tire’s valve stem.\\nUsing a tire pressure gauge, hold the gauge down on the valve stem to get the \\ntire’s pressure reading. Perform this step for all of the tires on your vehicle.\\nCompare the tire pressure to the information on the sticker located on the \\ndriver side door jam. Please make sure that the tires are cold and have not \\nbeen driven on for at least an hour as the tire’s air pressure will increase as the \\ntemperature of the tire increases.\\nIf needed, inflate the tires to the manufacturer’s specifications.\\n2'),\n",
       " Document(id='c9f08ae4-ed52-4969-8fa3-e75a5444bfda', metadata={'producer': 'Adobe PDF Library 9.9', 'creator': 'Adobe InDesign CS5 (7.0)', 'creationdate': '2011-09-13T12:26:50-07:00', 'moddate': '2011-09-13T12:27:13-07:00', 'trapped': '/False', 'source': 'c:\\\\Users\\\\ibrah\\\\Desktop\\\\Agentic_Car\\\\data\\\\PDF\\\\Car_Maintencance_Guide.pdf', 'total_pages': 18, 'page': 7, 'page_label': '8'}, page_content='Teen Driver Car Maintenance and Repair Guide\\nVehicle Maintenance and Repair Instructions\\n2. How to change a flat tire\\nFor help, view pictures of how to change a flat tire.\\nA flat tire can occur anywhere and at anytime, so knowing how to change a flat tire is \\nessential part of your vehicle repair and maintenance knowledge. \\nStep 1\\nStep 2\\nStep 3\\nStep 4\\nStep 5\\nStep 6\\nStep 7\\nStep 8\\nFor even more tire care tips, click here.\\nPark the vehicle on a solid, level surface and set the parking brake. If you are \\ndriving when a flat tire occurs, pull off to the side of the road and turn on the \\nhazard lights. Do not attempt to replace a flat tire on the road if it is not safe.\\nLocate and remove your spare tire, the car jack, and the lug nut wrench or tire \\niron.\\nIf necessary, remove the wheel hub cap from the flat tire. Break loose the wheel \\nlug nuts by turning them counter-clockwise with a tire iron. Do not remove the \\nlug nuts until the vehicle is raised.'),\n",
       " Document(id='d9707773-a480-4afb-b9a3-46ec73a49a50', metadata={'producer': 'RAD PDF 2.20.2.0 - http://www.radpdf.com', 'creator': 'RAD PDF', 'creationdate': '2014-02-19T13:47:01-07:00', 'moddate': '2014-03-05T16:45:35-08:00', 'source': 'c:\\\\Users\\\\ibrah\\\\Desktop\\\\Agentic_Car\\\\data\\\\PDF\\\\Crawfords_Auto_Repair_Guide.pdf', 'total_pages': 84, 'page': 45, 'page_label': '46'}, page_content='Crawford\\x01s Guide to Beginners Auto Maintenance & Repair  www.CrawfordsAutoService.com \\n41 \\nStandard spare tire kit with spare tire, lug wrench, and tire jack. This particular kit does not include chocks \\nfor the other tires. Notice how the spare tire is smaller than the regular tire. It is only meant to be used to \\nget the vehicle to a repair shop. \\nImage credit: CC-BY-Kurt Nordstrom \\nHere are some general guidelines for changing a tire (in order): \\n\\uf0b7 Make sure the vehicle is on level ground (see Chapter 1, Safety, proper lifting \\n points) \\n\\uf0b7 Apply the parking brake \\n\\uf0b7 Remove the spare tire and tools from the vehicle \\n\\uf0b7 Use wheel chocks to block the wheels opposite of the wheel you\\x01re changing (i.e. \\nif you\\x01re changing a rear tire, then put the ch ocks in front of the front wheels).  \\no Wheel chocks are similar to triangle-shaped door stoppers. When chocks \\nare included with the tire changing kit, then they should be used. However,'),\n",
       " Document(id='abc38a0d-d49c-45f3-9cb0-68737e9e0273', metadata={'producer': 'Adobe PDF Library 9.9', 'creator': 'Adobe InDesign CS5 (7.0)', 'creationdate': '2011-09-13T12:26:50-07:00', 'moddate': '2011-09-13T12:27:13-07:00', 'trapped': '/False', 'source': 'c:\\\\Users\\\\ibrah\\\\Desktop\\\\Agentic_Car\\\\data\\\\PDF\\\\Car_Maintencance_Guide.pdf', 'total_pages': 18, 'page': 7, 'page_label': '8'}, page_content='lug nuts until the vehicle is raised.\\nUsing your car jack, lift the vehicle where the flat tire is located. Check your \\nvehicle owner’s manual for proper jacking locations.\\nRemove the lug nuts. Remove the flat tire and set it aside.\\nInstall the spare tire on the wheel hub by aligning the lug nut holes with the \\nstuds. Install the lug nuts and snug them down with the tire iron in a star \\npattern.\\nLower the vehicle to the ground and remove the jack. Tighten the lug nuts \\nsecurely in a star pattern.\\nIf applicable, re-install the hub cap. Place the flat tire in the trunk, and return \\nthe car jack and the tire iron to their proper locations.\\n8')]"
      ]
     },
     "execution_count": 27,
     "metadata": {},
     "output_type": "execute_result"
    }
   ],
   "source": [
    "debug_retriever(\"how to change a tire\")"
   ]
  },
  {
   "cell_type": "code",
   "execution_count": 29,
   "id": "b470d680",
   "metadata": {},
   "outputs": [],
   "source": [
    "def fast_rag_search(query, top_k=5, debug=True):\n",
    "    \"\"\"Hybrid RAG search with semantic + keyword results and debug mode\"\"\"\n",
    "    global vector_store, bm25_retriever\n",
    "    \n",
    "    print(f\"\\n🔍 Searching PDF knowledge base for: '{query}'\")\n",
    "    \n",
    "    if vector_store is None or bm25_retriever is None:\n",
    "        return \"❌ RAG system not initialized. Please check if PDF files are loaded correctly.\"\n",
    "    \n",
    "    try:\n",
    "        faiss_retriever = vector_store.as_retriever(search_kwargs={\"k\": top_k})\n",
    "        ensemble = EnsembleRetriever(\n",
    "            retrievers=[bm25_retriever, faiss_retriever],\n",
    "            weights=[0.4, 0.6]\n",
    "        )\n",
    "        \n",
    "        docs = ensemble.get_relevant_documents(query)\n",
    "        if not docs:\n",
    "            print(\"❌ No relevant information found in PDFs\")\n",
    "            return \"The PDF documents do not contain specific information about this topic.\"\n",
    "        \n",
    "        print(f\"✅ Found {len(docs)} relevant chunks, showing top {min(3, len(docs))}\")\n",
    "        \n",
    "        snippets = []\n",
    "        for i, doc in enumerate(docs[:3], 1):\n",
    "            source = os.path.basename(doc.metadata.get('source', 'unknown.pdf'))\n",
    "            page = doc.metadata.get('page', 'N/A')\n",
    "            content = doc.page_content.strip().replace(\"\\n\", \" \")\n",
    "            \n",
    "            if debug:\n",
    "                print(f\"\\n--- Chunk {i} ---\")\n",
    "                print(f\"Source: {source}, Page: {page}\")\n",
    "                print(f\"Content Preview: {content[:300]}...\")  # only show first 300 chars\n",
    "            \n",
    "            snippets.append(f\"📄 [{source} - page {page}]\\n{content}\")\n",
    "        \n",
    "        return \"\\n\\n\".join(snippets)\n",
    "        \n",
    "    except Exception as e:\n",
    "        return f\"❌ Error searching documents: {str(e)}\"\n"
   ]
  },
  {
   "cell_type": "code",
   "execution_count": 30,
   "id": "28ecc618",
   "metadata": {},
   "outputs": [
    {
     "name": "stdout",
     "output_type": "stream",
     "text": [
      "\n",
      "🔍 Searching PDF knowledge base for: 'how to change a tire'\n",
      "✅ Found 18 relevant chunks, showing top 3\n",
      "\n",
      "--- Chunk 1 ---\n",
      "Source: Car_Maintencance_Guide.pdf, Page: 7\n",
      "Content Preview: Teen Driver Car Maintenance and Repair Guide Vehicle Maintenance and Repair Instructions 2. How to change a flat tire For help, view pictures of how to change a flat tire. A flat tire can occur anywhere and at anytime, so knowing how to change a flat tire is  essential part of your vehicle repair an...\n",
      "\n",
      "--- Chunk 2 ---\n",
      "Source: Crawfords_Auto_Repair_Guide.pdf, Page: 45\n",
      "Content Preview: Crawford\u0001s Guide to Beginners Auto Maintenance & Repair  www.CrawfordsAutoService.com  41  Standard spare tire kit with spare tire, lug wrench, and tire jack. This particular kit does not include chocks  for the other tires. Notice how the spare tire is smaller than the regular tire. It is only mean...\n",
      "\n",
      "--- Chunk 3 ---\n",
      "Source: Crawfords_Auto_Repair_Guide.pdf, Page: 44\n",
      "Content Preview: Every vehicle has instructions for using the jack and other tools as necessary to change  the tire. Some of the details can vary by make and model, such as the storage location  for the jack and spare tire. Consult the owner\u0001s manual of the vehicle. Also, there will  often be a sticker with instruct...\n",
      "📄 [Car_Maintencance_Guide.pdf - page 7]\n",
      "Teen Driver Car Maintenance and Repair Guide Vehicle Maintenance and Repair Instructions 2. How to change a flat tire For help, view pictures of how to change a flat tire. A flat tire can occur anywhere and at anytime, so knowing how to change a flat tire is  essential part of your vehicle repair and maintenance knowledge.  Step 1 Step 2 Step 3 Step 4 Step 5 Step 6 Step 7 Step 8 For even more tire care tips, click here. Park the vehicle on a solid, level surface and set the parking brake. If you are  driving when a flat tire occurs, pull off to the side of the road and turn on the  hazard lights. Do not attempt to replace a flat tire on the road if it is not safe. Locate and remove your spare tire, the car jack, and the lug nut wrench or tire  iron. If necessary, remove the wheel hub cap from the flat tire. Break loose the wheel  lug nuts by turning them counter-clockwise with a tire iron. Do not remove the  lug nuts until the vehicle is raised.\n",
      "\n",
      "📄 [Crawfords_Auto_Repair_Guide.pdf - page 45]\n",
      "Crawford\u0001s Guide to Beginners Auto Maintenance & Repair  www.CrawfordsAutoService.com  41  Standard spare tire kit with spare tire, lug wrench, and tire jack. This particular kit does not include chocks  for the other tires. Notice how the spare tire is smaller than the regular tire. It is only meant to be used to  get the vehicle to a repair shop.  Image credit: CC-BY-Kurt Nordstrom  Here are some general guidelines for changing a tire (in order):   Make sure the vehicle is on level ground (see Chapter 1, Safety, proper lifting   points)   Apply the parking brake   Remove the spare tire and tools from the vehicle   Use wheel chocks to block the wheels opposite of the wheel you\u0001re changing (i.e.  if you\u0001re changing a rear tire, then put the ch ocks in front of the front wheels).   o Wheel chocks are similar to triangle-shaped door stoppers. When chocks  are included with the tire changing kit, then they should be used. However,\n",
      "\n",
      "📄 [Crawfords_Auto_Repair_Guide.pdf - page 44]\n",
      "Every vehicle has instructions for using the jack and other tools as necessary to change  the tire. Some of the details can vary by make and model, such as the storage location  for the jack and spare tire. Consult the owner\u0001s manual of the vehicle. Also, there will  often be a sticker with instructions located with the jack and spare tire.\n"
     ]
    },
    {
     "name": "stderr",
     "output_type": "stream",
     "text": [
      "c:\\Users\\ibrah\\AppData\\Local\\Programs\\Python\\Python313\\Lib\\site-packages\\torch\\nn\\modules\\module.py:1762: FutureWarning: `encoder_attention_mask` is deprecated and will be removed in version 4.55.0 for `BertSdpaSelfAttention.forward`.\n",
      "  return forward_call(*args, **kwargs)\n"
     ]
    }
   ],
   "source": [
    "print(fast_rag_search(\"how to change a tire\", debug=True))\n"
   ]
  },
  {
   "cell_type": "code",
   "execution_count": null,
   "id": "71562da9",
   "metadata": {},
   "outputs": [],
   "source": []
  }
 ],
 "metadata": {
  "kernelspec": {
   "display_name": "Python 3",
   "language": "python",
   "name": "python3"
  },
  "language_info": {
   "codemirror_mode": {
    "name": "ipython",
    "version": 3
   },
   "file_extension": ".py",
   "mimetype": "text/x-python",
   "name": "python",
   "nbconvert_exporter": "python",
   "pygments_lexer": "ipython3",
   "version": "3.13.5"
  }
 },
 "nbformat": 4,
 "nbformat_minor": 5
}
