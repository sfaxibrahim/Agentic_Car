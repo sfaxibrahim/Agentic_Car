{
 "cells": [
  {
   "cell_type": "code",
   "execution_count": 15,
   "id": "1c92f258",
   "metadata": {},
   "outputs": [],
   "source": [
    "from langchain_ollama import OllamaLLM\n",
    "from langchain.callbacks.streaming_stdout import StreamingStdOutCallbackHandler\n",
    "from typing import Dict, Any\n",
    "import json\n",
    "from langchain.prompts import PromptTemplate\n",
    "from langchain.memory import ConversationBufferWindowMemory, ConversationSummaryBufferMemory\n",
    "import os\n",
    "import logging \n",
    "from datetime import datetime\n"
   ]
  },
  {
   "cell_type": "code",
   "execution_count": 9,
   "id": "a9050ded",
   "metadata": {},
   "outputs": [],
   "source": [
    "logging.basicConfig(level=logging.INFO)\n",
    "logger=logging.getLogger(__name__)\n"
   ]
  },
  {
   "cell_type": "code",
   "execution_count": 10,
   "id": "aa55227d",
   "metadata": {},
   "outputs": [],
   "source": [
    "CONFIG={\n",
    "    \"model_name\":\"mistral:latest\",\n",
    "    \"memory_window\":5,\n",
    "    \"history_file_path\":\"chat_history.json\",\n",
    "    \"max_history_entries\":100,\n",
    "    \"save_history\":True,\n",
    "}"
   ]
  },
  {
   "cell_type": "code",
   "execution_count": 11,
   "id": "4cd585bf",
   "metadata": {},
   "outputs": [],
   "source": [
    "def initilaize_llm():\n",
    "    \n",
    "    llm = OllamaLLM(model=CONFIG[\"model_name\"], callbacks=[StreamingStdOutCallbackHandler()], verbose=True)\n",
    "    return llm"
   ]
  },
  {
   "cell_type": "code",
   "execution_count": 12,
   "id": "ee1225dc",
   "metadata": {},
   "outputs": [],
   "source": [
    "def create_enhanced_pormpt():\n",
    "    \"\"\"create a prompt template with specific instructions for the AI model.\"\"\"\n",
    "    template = \"\"\"You are a friendly, intelligent AI assistant having a natural conversation.\n",
    "\n",
    "    Guidelines:\n",
    "    - Be conversational and engaging, not robotic or formal\n",
    "    - Ask thoughtful follow-up questions when appropriate\n",
    "    - Show genuine curiosity about the user's interests\n",
    "    - Reference relevant parts of our conversation history\n",
    "    - Provide helpful, accurate information\n",
    "    - Admit when you don't know something\n",
    "    - Keep responses concise but informative\n",
    "\n",
    "    Recent conversation history (last {memory_window} exchanges):\n",
    "    {history}\n",
    "\n",
    "    Current exchange:\n",
    "    Human: {input}\n",
    "    AI: \"\"\"\n",
    "    return PromptTemplate(\n",
    "        input_variables=[\"history\", \"input\", \"memory_window\"],\n",
    "        template=template,\n",
    "        partial_variables={\"memory_window\": CONFIG[\"memory_window\"]}\n",
    "    )\n",
    "\n"
   ]
  },
  {
   "cell_type": "code",
   "execution_count": null,
   "id": "bc559cda",
   "metadata": {},
   "outputs": [],
   "source": []
  }
 ],
 "metadata": {
  "kernelspec": {
   "display_name": "Python 3",
   "language": "python",
   "name": "python3"
  },
  "language_info": {
   "codemirror_mode": {
    "name": "ipython",
    "version": 3
   },
   "file_extension": ".py",
   "mimetype": "text/x-python",
   "name": "python",
   "nbconvert_exporter": "python",
   "pygments_lexer": "ipython3",
   "version": "3.13.5"
  }
 },
 "nbformat": 4,
 "nbformat_minor": 5
}
